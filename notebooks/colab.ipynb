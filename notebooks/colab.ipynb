{
 "cells": [
  {
   "cell_type": "code",
   "execution_count": null,
   "metadata": {
    "id": "P2eSBVQ2qtEC"
   },
   "outputs": [],
   "source": [
    "!pip install -q -U bitsandbytes\n",
    "!pip install -q -U git+https://github.com/huggingface/transformers.git\n",
    "!pip install -q -U git+https://github.com/huggingface/peft.git\n",
    "!pip install -q -U git+https://github.com/huggingface/accelerate.git\n",
    "!pip install -q datasets"
   ]
  },
  {
   "cell_type": "code",
   "execution_count": null,
   "metadata": {
    "id": "YEQG5PMA1xzU"
   },
   "outputs": [],
   "source": [
    "! huggingface-cli login"
   ]
  },
  {
   "cell_type": "code",
   "execution_count": null,
   "metadata": {
    "id": "ZqKk2ji1dBsm"
   },
   "outputs": [],
   "source": [
    "import bitsandbytes as bnb\n",
    "import torch\n",
    "from datasets import load_dataset\n",
    "from peft import LoraConfig, get_peft_model, prepare_model_for_kbit_training\n",
    "from transformers import (\n",
    "    AutoModelForCausalLM,\n",
    "    AutoTokenizer,\n",
    "    BitsAndBytesConfig,\n",
    "    DataCollatorForLanguageModeling,\n",
    "    Trainer,\n",
    "    TrainingArguments,\n",
    ")"
   ]
  },
  {
   "cell_type": "code",
   "execution_count": null,
   "metadata": {
    "id": "Ksg4ajrc6yLu"
   },
   "outputs": [],
   "source": [
    "def get_lora_modules(\n",
    "    model: AutoModelForCausalLM,\n",
    "    module_type: type[torch.nn.Linear] = bnb.nn.Linear4bit,\n",
    ") -> list[str]:\n",
    "    \"\"\"\n",
    "    Return a list of the modules to be tuned using LoRA.\n",
    "\n",
    "    The LoRA layers are typically the linear layers of the model.\n",
    "    \"\"\"\n",
    "    lora_module_names = set()\n",
    "\n",
    "    for name, module in model.named_modules():\n",
    "        if isinstance(module, module_type):\n",
    "            names = name.split(\".\")\n",
    "            lora_module_names.add(names[0] if len(names) == 1 else names[-1])\n",
    "\n",
    "    return [name for name in list(lora_module_names) if name != \"lm_head\"]"
   ]
  },
  {
   "cell_type": "code",
   "execution_count": null,
   "metadata": {
    "id": "qEQko7K2d8ZU"
   },
   "outputs": [],
   "source": [
    "# Set model and LoRA hyperparameters\n",
    "MODEL_ID = \"meta-llama/Llama-2-13b-hf\"\n",
    "GRADIENT_CHECKPOINTING = True\n",
    "LORA_TARGET_LAYER = bnb.nn.Linear4bit\n",
    "\n",
    "# Set quantization hyperparameters\n",
    "QUANTIZATION_CONFIG = BitsAndBytesConfig(\n",
    "    load_in_4bit=True,\n",
    "    bnb_4bit_use_double_quant=True,\n",
    "    bnb_4bit_quant_type=\"nf4\",\n",
    "    bnb_4bit_compute_dtype=torch.bfloat16,\n",
    ")\n",
    "\n",
    "# Set dataset hyperparameters\n",
    "DATASET = \"Abirate/english_quotes\"\n",
    "TARGET_COLUMN = \"quote\"\n",
    "\n",
    "# Set training hyperparameters\n",
    "TRAINING_CONFIG = TrainingArguments(\n",
    "    per_device_train_batch_size=1,\n",
    "    gradient_accumulation_steps=4,\n",
    "    warmup_steps=2,\n",
    "    max_steps=1_000,\n",
    "    learning_rate=2e-4,\n",
    "    fp16=True,\n",
    "    logging_steps=1,\n",
    "    output_dir=\"outputs\",\n",
    "    optim=\"paged_adamw_8bit\",\n",
    ")"
   ]
  },
  {
   "cell_type": "code",
   "execution_count": null,
   "metadata": {
    "id": "z5INGi8SqwEr"
   },
   "outputs": [],
   "source": [
    "# Download the tokenizer and set the pad token (needed for trainer class, no value by default)\n",
    "tokenizer = AutoTokenizer.from_pretrained(MODEL_ID)\n",
    "tokenizer.pad_token = tokenizer.eos_token"
   ]
  },
  {
   "cell_type": "code",
   "execution_count": null,
   "metadata": {
    "id": "er2vQV7Eq01N"
   },
   "outputs": [],
   "source": [
    "# Download the model and prepare for fine-tuning\n",
    "model = AutoModelForCausalLM.from_pretrained(\n",
    "    MODEL_ID, quantization_config=QUANTIZATION_CONFIG, device_map={\"\": 0}\n",
    ")\n",
    "if GRADIENT_CHECKPOINTING:\n",
    "    model.gradient_checkpointing_enable()\n",
    "model = prepare_model_for_kbit_training(model)"
   ]
  },
  {
   "cell_type": "code",
   "execution_count": null,
   "metadata": {
    "id": "SFGGvM7_valu"
   },
   "outputs": [],
   "source": [
    "# Set LoRA hyperparameters\n",
    "LORA_CONFIG = LoraConfig(\n",
    "    r=8,\n",
    "    lora_alpha=32,\n",
    "    target_modules=get_lora_modules(model, LORA_TARGET_LAYER),\n",
    "    lora_dropout=0.05,\n",
    "    bias=\"none\",\n",
    "    task_type=\"CAUSAL_LM\",\n",
    ")"
   ]
  },
  {
   "cell_type": "code",
   "execution_count": null,
   "metadata": {
    "id": "2wiT-BYVjta3"
   },
   "outputs": [],
   "source": [
    "# Convert the model for LoRA\n",
    "model = get_peft_model(model, LORA_CONFIG)"
   ]
  },
  {
   "cell_type": "code",
   "execution_count": null,
   "metadata": {
    "id": "SfqBA02nvcE7"
   },
   "outputs": [],
   "source": [
    "# Download and prepare data\n",
    "data = load_dataset(DATASET)\n",
    "data = data.map(lambda samples: tokenizer(samples[TARGET_COLUMN]), batched=True)"
   ]
  },
  {
   "cell_type": "code",
   "execution_count": null,
   "metadata": {
    "id": "WPdZ85rzwQEj"
   },
   "outputs": [],
   "source": [
    "# Instantiate trainer\n",
    "trainer = Trainer(\n",
    "    model=model,\n",
    "    train_dataset=data[\"train\"],\n",
    "    args=TRAINING_CONFIG,\n",
    "    data_collator=DataCollatorForLanguageModeling(tokenizer, mlm=False),\n",
    ")\n",
    "model.config.use_cache = False\n",
    "\n",
    "# Fine-tune using LoRA\n",
    "trainer.train()"
   ]
  }
 ],
 "metadata": {
  "accelerator": "GPU",
  "colab": {
   "gpuType": "T4",
   "machine_shape": "hm",
   "provenance": []
  },
  "kernelspec": {
   "display_name": "Python 3 (ipykernel)",
   "language": "python",
   "name": "python3"
  },
  "language_info": {
   "codemirror_mode": {
    "name": "ipython",
    "version": 3
   },
   "file_extension": ".py",
   "mimetype": "text/x-python",
   "name": "python",
   "nbconvert_exporter": "python",
   "pygments_lexer": "ipython3",
   "version": "3.10.13"
  }
 },
 "nbformat": 4,
 "nbformat_minor": 4
}
